{
 "cells": [
  {
   "cell_type": "code",
   "execution_count": 24,
   "id": "e9f9ca21",
   "metadata": {},
   "outputs": [],
   "source": [
    "from influxdb_client import InfluxDBClient, Point, WritePrecision\n",
    "from influxdb_client.client.write_api import SYNCHRONOUS\n",
    "\n",
    "bucket = \"device1\"\n",
    "token = \"9H15orQviXHnTuXLMChmLKl4dGhQw6GC80l6gc_cwc__56H9Q0rxOrqKMpD4TrNjuLLm9sPt8oaHpvXBEm8uXg==\"\n",
    "\n",
    "client = InfluxDBClient(url=\"http://influxdb:8086\", token=token, org=\"taller3\")\n",
    "\n",
    "write_api = client.write_api(write_options=SYNCHRONOUS)\n",
    "query_api = client.query_api()\n",
    "for i in range(30):\n",
    "    p = Point(\"Medicion\").tag(\"Ubicacion\", \"Santa Marta\").field(\"temperatura\", float(i))\n",
    "\n",
    "    write_api.write(bucket=bucket, record=p)"
   ]
  },
  {
   "cell_type": "code",
   "execution_count": 22,
   "id": "828f1069",
   "metadata": {},
   "outputs": [],
   "source": [
    "import time\n",
    "from datetime import datetime\n",
    "for i in range(30):\n",
    "    time.sleep(1)\n",
    "    point = Point(\"mem\").tag(\"host\", \"host1\").field(\"used_percent\", float(i)).time(datetime.utcnow(), WritePrecision.NS)\n",
    "\n",
    "    write_api.write(bucket, \"taller3\", point)"
   ]
  },
  {
   "cell_type": "code",
   "execution_count": null,
   "id": "040fdac7",
   "metadata": {},
   "outputs": [],
   "source": [
    "write_api = client.write_api(write_options=SYNCHRONOUS)\n",
    "\n",
    "data = \"mem,host=host1 used_percent=23.43234543\"\n",
    "write_api.write(bucket, org, data)"
   ]
  }
 ],
 "metadata": {
  "kernelspec": {
   "display_name": "Python 3 (ipykernel)",
   "language": "python",
   "name": "python3"
  },
  "language_info": {
   "codemirror_mode": {
    "name": "ipython",
    "version": 3
   },
   "file_extension": ".py",
   "mimetype": "text/x-python",
   "name": "python",
   "nbconvert_exporter": "python",
   "pygments_lexer": "ipython3",
   "version": "3.9.6"
  }
 },
 "nbformat": 4,
 "nbformat_minor": 5
}
